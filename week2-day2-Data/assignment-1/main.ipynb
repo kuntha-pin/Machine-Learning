{
 "cells": [
  {
   "cell_type": "markdown",
   "id": "44319c62",
   "metadata": {},
   "source": [
    "Question 1"
   ]
  },
  {
   "cell_type": "code",
   "execution_count": null,
   "id": "11c137b5",
   "metadata": {},
   "outputs": [
    {
     "name": "stdout",
     "output_type": "stream",
     "text": [
      "Number of chickens: 125\n"
     ]
    }
   ],
   "source": [
    "import json\n",
    "\n",
    "def count_chickens(json_file_path):\n",
    "    with open(json_file_path, 'r') as file:\n",
    "        data = json.load(file)\n",
    "\n",
    "    chicken_count = sum(1 for shape in data['shapes'] if shape['label'] == 'chicken')\n",
    "    return chicken_count\n",
    "\n",
    "# Example usage\n",
    "json_path = '496.json'\n",
    "print(\"Number of chickens:\", count_chickens(json_path))\n"
   ]
  },
  {
   "cell_type": "markdown",
   "id": "54718245",
   "metadata": {},
   "source": [
    "Question 2"
   ]
  },
  {
   "cell_type": "code",
   "execution_count": 9,
   "id": "7b584505",
   "metadata": {},
   "outputs": [],
   "source": [
    "import mediapipe as mp\n",
    "import cv2\n",
    "import os\n",
    "import pandas as pd\n",
    "\n",
    "# Initialize MediaPipe Pose\n",
    "mp_pose = mp.solutions.pose\n",
    "pose = mp_pose.Pose(static_image_mode=True)\n",
    "mp_drawing = mp.solutions.drawing_utils\n",
    "\n",
    "\n",
    "image_folder = \"activity_dataset\"\n",
    "\n",
    "# Automatically get image paths per activity\n",
    "image_info = {}\n",
    "for activity_name in os.listdir(image_folder):\n",
    "    activity_path = os.path.join(image_folder, activity_name)\n",
    "    if os.path.isdir(activity_path):\n",
    "        # Get all images in this activity folder\n",
    "        image_list = [os.path.join(activity_path, f) \n",
    "                      for f in os.listdir(activity_path) \n",
    "                      if f.lower().endswith(('.png', '.jpg', '.jpeg'))]\n",
    "        image_info[activity_name] = image_list\n",
    "\n",
    "# Output data\n",
    "output_data = []\n",
    "\n",
    "for activity, image_paths in image_info.items():\n",
    "    for image_path in image_paths:\n",
    "        image_name = os.path.basename(image_path)\n",
    "        image = cv2.imread(image_path)\n",
    "        if image is None:\n",
    "            print(f\"Failed to load: {image_name}\")\n",
    "            continue\n",
    "\n",
    "        image_rgb = cv2.cvtColor(image, cv2.COLOR_BGR2RGB)\n",
    "        result = pose.process(image_rgb)\n",
    "\n",
    "        # Collect keypoints\n",
    "        keypoints = []\n",
    "        if result.pose_landmarks:\n",
    "            for landmark in result.pose_landmarks.landmark:\n",
    "                keypoints.extend([landmark.x, landmark.y, landmark.z, landmark.visibility])\n",
    "        else:\n",
    "            keypoints = [None] * (33 * 4)  # If pose not detected\n",
    "\n",
    "        # Append to output\n",
    "        output_data.append({\n",
    "            \"file_name\": image_name,\n",
    "            \"activity\": activity,\n",
    "            \"keypoints\": keypoints\n",
    "        })\n",
    "\n",
    "# Convert to DataFrame\n",
    "df = pd.DataFrame(output_data)\n",
    "\n",
    "# Save to CSV or JSON\n",
    "# df.to_csv(\"human_keypoints_with_activity.csv\", index=False)\n",
    "df.to_json(\"human_keypoints_with_activity.json\", orient='records', indent=2)\n",
    "\n"
   ]
  },
  {
   "cell_type": "markdown",
   "id": "3252a246",
   "metadata": {},
   "source": [
    "Keypoint Visualization Check: Plotting Keypoint from JSON on Original Image."
   ]
  },
  {
   "cell_type": "code",
   "execution_count": 2,
   "id": "65510297",
   "metadata": {},
   "outputs": [],
   "source": [
    "import json\n",
    "import mediapipe as mp\n",
    "\n",
    "# Load JSON file\n",
    "with open(\"human_keypoints_with_activity.json\", \"r\") as f:\n",
    "    data = json.load(f)\n",
    "\n",
    "# Initialize MediaPipe drawing utilities\n",
    "mp_drawing = mp.solutions.drawing_utils\n",
    "mp_pose = mp.solutions.pose\n"
   ]
  },
  {
   "cell_type": "code",
   "execution_count": 3,
   "id": "7dc6a9a4",
   "metadata": {},
   "outputs": [],
   "source": [
    "import cv2\n",
    "import json\n",
    "\n",
    "# Load JSON\n",
    "with open(\"human_keypoints_with_activity.json\", \"r\") as f:\n",
    "    data = json.load(f)\n",
    "\n",
    "# Pose connections (MediaPipe's POSE_CONNECTIONS)\n",
    "POSE_CONNECTIONS = mp.solutions.pose.POSE_CONNECTIONS\n",
    "\n",
    "for entry in data:\n",
    "    activity = entry['activity']\n",
    "    file_name = entry['file_name']\n",
    "    keypoints = entry['keypoints']\n",
    "\n",
    "    image_file = f\"activity_dataset/{activity}/{file_name}\"\n",
    "    image = cv2.imread(image_file)\n",
    "    if image is None:\n",
    "        continue\n",
    "\n",
    "    h, w, _ = image.shape\n",
    "\n",
    "    # Convert keypoints to pixel coordinates\n",
    "    points = []\n",
    "    for i in range(33):\n",
    "        x, y, z, v = keypoints[i*4:(i+1)*4]\n",
    "        points.append((int(x*w), int(y*h)))\n",
    "\n",
    "    # Draw keypoints\n",
    "    for point in points:\n",
    "        cv2.circle(image, point, 5, (0, 255, 0), -1)\n",
    "\n",
    "    # Draw connections\n",
    "    for connection in POSE_CONNECTIONS:\n",
    "        start_idx, end_idx = connection\n",
    "        pt1, pt2 = points[start_idx], points[end_idx]\n",
    "        cv2.line(image, pt1, pt2, (0, 0, 255), 2)\n",
    "\n",
    "    cv2.imshow(file_name, image)\n",
    "    cv2.waitKey(2000)\n",
    "    cv2.destroyWindow(file_name)\n"
   ]
  },
  {
   "cell_type": "code",
   "execution_count": null,
   "id": "b355a75c",
   "metadata": {},
   "outputs": [],
   "source": []
  }
 ],
 "metadata": {
  "kernelspec": {
   "display_name": "base",
   "language": "python",
   "name": "python3"
  },
  "language_info": {
   "codemirror_mode": {
    "name": "ipython",
    "version": 3
   },
   "file_extension": ".py",
   "mimetype": "text/x-python",
   "name": "python",
   "nbconvert_exporter": "python",
   "pygments_lexer": "ipython3",
   "version": "3.12.7"
  }
 },
 "nbformat": 4,
 "nbformat_minor": 5
}
